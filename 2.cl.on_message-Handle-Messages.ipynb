{
 "cells": [
  {
   "cell_type": "code",
   "execution_count": 2,
   "id": "a87b59a8-761b-43a2-852d-86012f329d5c",
   "metadata": {},
   "outputs": [],
   "source": [
    "import chainlit as cl\n",
    "from typing import TypedDict, List\n",
    "from langgraph.graph import StateGraph\n",
    "from langchain_ollama import ChatOllama\n",
    "from langchain_core.messages import HumanMessage, BaseMessage, AIMessage\n",
    "import os\n",
    "\n",
    "# Initialize LLM\n",
    "llm = ChatOllama(model=\"qwen2.5\", streaming=True)\n",
    "\n",
    "# Define agent state\n",
    "class AgentState(TypedDict):\n",
    "    messages: List[BaseMessage]\n",
    "\n",
    "# LangGraph node\n",
    "def llm_node(state: AgentState) -> AgentState:\n",
    "\n",
    "    response = llm.invoke(state[\"messages\"])\n",
    "    state[\"messages\"].append(AIMessage(content=response.content))\n",
    "\n",
    "    print(\"\\nFINAL STATE: \", state)\n",
    "    return state\n",
    "\n",
    "\n",
    "# Build LangGraph\n",
    "graph = StateGraph(AgentState)\n",
    "graph.add_node(\"llm\", llm_node)\n",
    "graph.set_entry_point(\"llm\")\n",
    "graph.set_finish_point(\"llm\")\n",
    "agent = graph.compile()"
   ]
  },
  {
   "cell_type": "code",
   "execution_count": 3,
   "id": "52c37dfa-7952-495d-92eb-475109cb7175",
   "metadata": {},
   "outputs": [],
   "source": [
    "@cl.on_chat_start\n",
    "async def on_chat_start():\n",
    "    cl.user_session.set(\"state\", {\"messages\": []})\n",
    "    await cl.Message(content=\"👋 Hello! I'm your AI assistant. How can I help you today?\").send()"
   ]
  },
  {
   "cell_type": "code",
   "execution_count": 5,
   "id": "c02e1867-5aff-4723-9d0d-14c1bec3ef20",
   "metadata": {},
   "outputs": [],
   "source": [
    "@cl.on_message\n",
    "async def on_message(msg: cl.Message):\n",
    "\n",
    "    state = cl.user_session.get(\"state\")\n",
    "    state[\"messages\"].append(HumanMessage(content=msg.content))\n",
    "\n",
    "    final_state = await agent.ainvoke(state)\n",
    "\n",
    "    cl.user_session.set(\"state\", final_state)\n",
    "    \n",
    "    ai_reply = final_state[\"messages\"][-1].content\n",
    "    await cl.Message(content=ai_reply).send()"
   ]
  },
  {
   "cell_type": "code",
   "execution_count": null,
   "id": "1f08745e-0e72-4c33-af66-f20759b0990c",
   "metadata": {},
   "outputs": [],
   "source": []
  }
 ],
 "metadata": {
  "kernelspec": {
   "display_name": "Python 3 (ipykernel)",
   "language": "python",
   "name": "python3"
  },
  "language_info": {
   "codemirror_mode": {
    "name": "ipython",
    "version": 3
   },
   "file_extension": ".py",
   "mimetype": "text/x-python",
   "name": "python",
   "nbconvert_exporter": "python",
   "pygments_lexer": "ipython3",
   "version": "3.12.3"
  }
 },
 "nbformat": 4,
 "nbformat_minor": 5
}
